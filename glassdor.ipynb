{
 "cells": [
  {
   "cell_type": "code",
   "execution_count": 6,
   "metadata": {},
   "outputs": [],
   "source": [
    "import kaggle\n",
    "import zipfile"
   ]
  },
  {
   "cell_type": "code",
   "execution_count": 4,
   "metadata": {},
   "outputs": [
    {
     "name": "stdout",
     "output_type": "stream",
     "text": [
      "Warning: Looks like you're using an outdated API Version, please consider updating (server 1.6.14 / client 1.6.12)\n",
      "Dataset URL: https://www.kaggle.com/datasets/rashikrahmanpritom/data-science-job-posting-on-glassdoor\n",
      "License(s): CC0-1.0\n",
      "Downloading data-science-job-posting-on-glassdoor.zip to c:\\Users\\kboro\\Desktop\\projects\\glassdor\n",
      "\n"
     ]
    },
    {
     "name": "stderr",
     "output_type": "stream",
     "text": [
      "\n",
      "  0%|          | 0.00/1.53M [00:00<?, ?B/s]\n",
      " 65%|██████▌   | 1.00M/1.53M [00:00<00:00, 1.53MB/s]\n",
      "100%|██████████| 1.53M/1.53M [00:00<00:00, 2.11MB/s]\n",
      "100%|██████████| 1.53M/1.53M [00:00<00:00, 1.96MB/s]\n"
     ]
    }
   ],
   "source": [
    "# downloading a dataset\n",
    "!kaggle datasets download -d rashikrahmanpritom/data-science-job-posting-on-glassdoor"
   ]
  },
  {
   "cell_type": "code",
   "execution_count": 7,
   "metadata": {},
   "outputs": [],
   "source": [
    "# extracting a zip file\n",
    "zipfile_name = 'data-science-job-posting-on-glassdoor.zip'\n",
    "with zipfile.ZipFile(zipfile_name, 'r') as file:\n",
    "    file.extractall()"
   ]
  },
  {
   "cell_type": "markdown",
   "metadata": {},
   "source": [
    "*note*: at this oint, we have two files:\n",
    "- Uncleaned_DS_jobs.csv\n",
    "- Cleaned_DS_Jobs.csv\n",
    "let's **get rid** of Cleaned_DS_Jobs.csv now"
   ]
  },
  {
   "cell_type": "code",
   "execution_count": 8,
   "metadata": {},
   "outputs": [],
   "source": [
    "import os"
   ]
  },
  {
   "cell_type": "code",
   "execution_count": 10,
   "metadata": {},
   "outputs": [],
   "source": [
    "file_to_rm = 'Cleaned_DS_Jobs.csv'\n",
    "os.remove(file_to_rm)"
   ]
  }
 ],
 "metadata": {
  "kernelspec": {
   "display_name": "Python 3",
   "language": "python",
   "name": "python3"
  },
  "language_info": {
   "codemirror_mode": {
    "name": "ipython",
    "version": 3
   },
   "file_extension": ".py",
   "mimetype": "text/x-python",
   "name": "python",
   "nbconvert_exporter": "python",
   "pygments_lexer": "ipython3",
   "version": "3.12.0"
  }
 },
 "nbformat": 4,
 "nbformat_minor": 2
}
