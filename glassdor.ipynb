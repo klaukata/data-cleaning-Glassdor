{
 "cells": [
  {
   "cell_type": "code",
   "execution_count": 100,
   "metadata": {},
   "outputs": [],
   "source": [
    "import kaggle\n",
    "import zipfile\n",
    "import pandas as pd"
   ]
  },
  {
   "cell_type": "code",
   "execution_count": 101,
   "metadata": {},
   "outputs": [
    {
     "name": "stdout",
     "output_type": "stream",
     "text": [
      "Warning: Looks like you're using an outdated API Version, please consider updating (server 1.6.14 / client 1.6.12)\n",
      "Dataset URL: https://www.kaggle.com/datasets/rashikrahmanpritom/data-science-job-posting-on-glassdoor\n",
      "License(s): CC0-1.0\n",
      "Downloading data-science-job-posting-on-glassdoor.zip to c:\\Users\\kboro\\Desktop\\projects\\glassdor\n",
      "\n"
     ]
    },
    {
     "name": "stderr",
     "output_type": "stream",
     "text": [
      "\n",
      "  0%|          | 0.00/1.53M [00:00<?, ?B/s]\n",
      " 65%|██████▌   | 1.00M/1.53M [00:00<00:00, 1.81MB/s]\n",
      "100%|██████████| 1.53M/1.53M [00:00<00:00, 2.41MB/s]\n"
     ]
    }
   ],
   "source": [
    "# downloading a dataset\n",
    "!kaggle datasets download -d rashikrahmanpritom/data-science-job-posting-on-glassdoor"
   ]
  },
  {
   "cell_type": "code",
   "execution_count": 102,
   "metadata": {},
   "outputs": [],
   "source": [
    "# extracting a zip file\n",
    "zipfile_name = 'data-science-job-posting-on-glassdoor.zip'\n",
    "with zipfile.ZipFile(zipfile_name, 'r') as file:\n",
    "    file.extractall()"
   ]
  },
  {
   "cell_type": "markdown",
   "metadata": {},
   "source": [
    "*note*: at this oint, we have two files:\n",
    "\n",
    "- Uncleaned_DS_jobs.csv\n",
    "- Cleaned_DS_Jobs.csv\n",
    "\n",
    "let us **get rid of** Cleaned_DS_Jobs.csv now"
   ]
  },
  {
   "cell_type": "code",
   "execution_count": 103,
   "metadata": {},
   "outputs": [],
   "source": [
    "import os"
   ]
  },
  {
   "cell_type": "code",
   "execution_count": 104,
   "metadata": {},
   "outputs": [],
   "source": [
    "file_to_rm = 'Cleaned_DS_Jobs.csv'\n",
    "os.remove(file_to_rm)\n",
    "# changing a name of a file\n",
    "os.rename('Uncleaned_DS_jobs.csv', 'job_posting.csv')"
   ]
  },
  {
   "cell_type": "code",
   "execution_count": 105,
   "metadata": {},
   "outputs": [],
   "source": [
    "# reading csv file as pandas dataframe\n",
    "job_posting = pd.read_csv('job_posting.csv')"
   ]
  },
  {
   "cell_type": "code",
   "execution_count": 106,
   "metadata": {},
   "outputs": [
    {
     "name": "stdout",
     "output_type": "stream",
     "text": [
      "<class 'pandas.core.frame.DataFrame'>\n",
      "RangeIndex: 672 entries, 0 to 671\n",
      "Data columns (total 15 columns):\n",
      " #   Column             Non-Null Count  Dtype  \n",
      "---  ------             --------------  -----  \n",
      " 0   index              672 non-null    int64  \n",
      " 1   Job Title          672 non-null    object \n",
      " 2   Salary Estimate    672 non-null    object \n",
      " 3   Job Description    672 non-null    object \n",
      " 4   Rating             672 non-null    float64\n",
      " 5   Company Name       672 non-null    object \n",
      " 6   Location           672 non-null    object \n",
      " 7   Headquarters       672 non-null    object \n",
      " 8   Size               672 non-null    object \n",
      " 9   Founded            672 non-null    int64  \n",
      " 10  Type of ownership  672 non-null    object \n",
      " 11  Industry           672 non-null    object \n",
      " 12  Sector             672 non-null    object \n",
      " 13  Revenue            672 non-null    object \n",
      " 14  Competitors        672 non-null    object \n",
      "dtypes: float64(1), int64(2), object(12)\n",
      "memory usage: 78.9+ KB\n"
     ]
    }
   ],
   "source": [
    "# checking our dataframe\n",
    "job_posting.info()"
   ]
  },
  {
   "cell_type": "markdown",
   "metadata": {},
   "source": [
    "so, ``job_posting`` dataframe consists of:\n",
    "- 672 rows\n",
    "- 15 columns"
   ]
  },
  {
   "cell_type": "code",
   "execution_count": 107,
   "metadata": {},
   "outputs": [
    {
     "data": {
      "text/html": [
       "<div>\n",
       "<style scoped>\n",
       "    .dataframe tbody tr th:only-of-type {\n",
       "        vertical-align: middle;\n",
       "    }\n",
       "\n",
       "    .dataframe tbody tr th {\n",
       "        vertical-align: top;\n",
       "    }\n",
       "\n",
       "    .dataframe thead th {\n",
       "        text-align: right;\n",
       "    }\n",
       "</style>\n",
       "<table border=\"1\" class=\"dataframe\">\n",
       "  <thead>\n",
       "    <tr style=\"text-align: right;\">\n",
       "      <th></th>\n",
       "      <th>index</th>\n",
       "      <th>Job Title</th>\n",
       "      <th>Salary Estimate</th>\n",
       "      <th>Job Description</th>\n",
       "      <th>Rating</th>\n",
       "      <th>Company Name</th>\n",
       "      <th>Location</th>\n",
       "      <th>Headquarters</th>\n",
       "      <th>Size</th>\n",
       "      <th>Founded</th>\n",
       "      <th>Type of ownership</th>\n",
       "      <th>Industry</th>\n",
       "      <th>Sector</th>\n",
       "      <th>Revenue</th>\n",
       "      <th>Competitors</th>\n",
       "    </tr>\n",
       "  </thead>\n",
       "  <tbody>\n",
       "    <tr>\n",
       "      <th>0</th>\n",
       "      <td>0</td>\n",
       "      <td>Sr Data Scientist</td>\n",
       "      <td>$137K-$171K (Glassdoor est.)</td>\n",
       "      <td>Description\\n\\nThe Senior Data Scientist is re...</td>\n",
       "      <td>3.1</td>\n",
       "      <td>Healthfirst\\n3.1</td>\n",
       "      <td>New York, NY</td>\n",
       "      <td>New York, NY</td>\n",
       "      <td>1001 to 5000 employees</td>\n",
       "      <td>1993</td>\n",
       "      <td>Nonprofit Organization</td>\n",
       "      <td>Insurance Carriers</td>\n",
       "      <td>Insurance</td>\n",
       "      <td>Unknown / Non-Applicable</td>\n",
       "      <td>EmblemHealth, UnitedHealth Group, Aetna</td>\n",
       "    </tr>\n",
       "    <tr>\n",
       "      <th>1</th>\n",
       "      <td>1</td>\n",
       "      <td>Data Scientist</td>\n",
       "      <td>$137K-$171K (Glassdoor est.)</td>\n",
       "      <td>Secure our Nation, Ignite your Future\\n\\nJoin ...</td>\n",
       "      <td>4.2</td>\n",
       "      <td>ManTech\\n4.2</td>\n",
       "      <td>Chantilly, VA</td>\n",
       "      <td>Herndon, VA</td>\n",
       "      <td>5001 to 10000 employees</td>\n",
       "      <td>1968</td>\n",
       "      <td>Company - Public</td>\n",
       "      <td>Research &amp; Development</td>\n",
       "      <td>Business Services</td>\n",
       "      <td>$1 to $2 billion (USD)</td>\n",
       "      <td>-1</td>\n",
       "    </tr>\n",
       "    <tr>\n",
       "      <th>2</th>\n",
       "      <td>2</td>\n",
       "      <td>Data Scientist</td>\n",
       "      <td>$137K-$171K (Glassdoor est.)</td>\n",
       "      <td>Overview\\n\\n\\nAnalysis Group is one of the lar...</td>\n",
       "      <td>3.8</td>\n",
       "      <td>Analysis Group\\n3.8</td>\n",
       "      <td>Boston, MA</td>\n",
       "      <td>Boston, MA</td>\n",
       "      <td>1001 to 5000 employees</td>\n",
       "      <td>1981</td>\n",
       "      <td>Private Practice / Firm</td>\n",
       "      <td>Consulting</td>\n",
       "      <td>Business Services</td>\n",
       "      <td>$100 to $500 million (USD)</td>\n",
       "      <td>-1</td>\n",
       "    </tr>\n",
       "    <tr>\n",
       "      <th>3</th>\n",
       "      <td>3</td>\n",
       "      <td>Data Scientist</td>\n",
       "      <td>$137K-$171K (Glassdoor est.)</td>\n",
       "      <td>JOB DESCRIPTION:\\n\\nDo you have a passion for ...</td>\n",
       "      <td>3.5</td>\n",
       "      <td>INFICON\\n3.5</td>\n",
       "      <td>Newton, MA</td>\n",
       "      <td>Bad Ragaz, Switzerland</td>\n",
       "      <td>501 to 1000 employees</td>\n",
       "      <td>2000</td>\n",
       "      <td>Company - Public</td>\n",
       "      <td>Electrical &amp; Electronic Manufacturing</td>\n",
       "      <td>Manufacturing</td>\n",
       "      <td>$100 to $500 million (USD)</td>\n",
       "      <td>MKS Instruments, Pfeiffer Vacuum, Agilent Tech...</td>\n",
       "    </tr>\n",
       "    <tr>\n",
       "      <th>4</th>\n",
       "      <td>4</td>\n",
       "      <td>Data Scientist</td>\n",
       "      <td>$137K-$171K (Glassdoor est.)</td>\n",
       "      <td>Data Scientist\\nAffinity Solutions / Marketing...</td>\n",
       "      <td>2.9</td>\n",
       "      <td>Affinity Solutions\\n2.9</td>\n",
       "      <td>New York, NY</td>\n",
       "      <td>New York, NY</td>\n",
       "      <td>51 to 200 employees</td>\n",
       "      <td>1998</td>\n",
       "      <td>Company - Private</td>\n",
       "      <td>Advertising &amp; Marketing</td>\n",
       "      <td>Business Services</td>\n",
       "      <td>Unknown / Non-Applicable</td>\n",
       "      <td>Commerce Signals, Cardlytics, Yodlee</td>\n",
       "    </tr>\n",
       "  </tbody>\n",
       "</table>\n",
       "</div>"
      ],
      "text/plain": [
       "   index          Job Title               Salary Estimate  \\\n",
       "0      0  Sr Data Scientist  $137K-$171K (Glassdoor est.)   \n",
       "1      1     Data Scientist  $137K-$171K (Glassdoor est.)   \n",
       "2      2     Data Scientist  $137K-$171K (Glassdoor est.)   \n",
       "3      3     Data Scientist  $137K-$171K (Glassdoor est.)   \n",
       "4      4     Data Scientist  $137K-$171K (Glassdoor est.)   \n",
       "\n",
       "                                     Job Description  Rating  \\\n",
       "0  Description\\n\\nThe Senior Data Scientist is re...     3.1   \n",
       "1  Secure our Nation, Ignite your Future\\n\\nJoin ...     4.2   \n",
       "2  Overview\\n\\n\\nAnalysis Group is one of the lar...     3.8   \n",
       "3  JOB DESCRIPTION:\\n\\nDo you have a passion for ...     3.5   \n",
       "4  Data Scientist\\nAffinity Solutions / Marketing...     2.9   \n",
       "\n",
       "              Company Name       Location            Headquarters  \\\n",
       "0         Healthfirst\\n3.1   New York, NY            New York, NY   \n",
       "1             ManTech\\n4.2  Chantilly, VA             Herndon, VA   \n",
       "2      Analysis Group\\n3.8     Boston, MA              Boston, MA   \n",
       "3             INFICON\\n3.5     Newton, MA  Bad Ragaz, Switzerland   \n",
       "4  Affinity Solutions\\n2.9   New York, NY            New York, NY   \n",
       "\n",
       "                      Size  Founded        Type of ownership  \\\n",
       "0   1001 to 5000 employees     1993   Nonprofit Organization   \n",
       "1  5001 to 10000 employees     1968         Company - Public   \n",
       "2   1001 to 5000 employees     1981  Private Practice / Firm   \n",
       "3    501 to 1000 employees     2000         Company - Public   \n",
       "4      51 to 200 employees     1998        Company - Private   \n",
       "\n",
       "                                Industry             Sector  \\\n",
       "0                     Insurance Carriers          Insurance   \n",
       "1                 Research & Development  Business Services   \n",
       "2                             Consulting  Business Services   \n",
       "3  Electrical & Electronic Manufacturing      Manufacturing   \n",
       "4                Advertising & Marketing  Business Services   \n",
       "\n",
       "                      Revenue  \\\n",
       "0    Unknown / Non-Applicable   \n",
       "1      $1 to $2 billion (USD)   \n",
       "2  $100 to $500 million (USD)   \n",
       "3  $100 to $500 million (USD)   \n",
       "4    Unknown / Non-Applicable   \n",
       "\n",
       "                                         Competitors  \n",
       "0            EmblemHealth, UnitedHealth Group, Aetna  \n",
       "1                                                 -1  \n",
       "2                                                 -1  \n",
       "3  MKS Instruments, Pfeiffer Vacuum, Agilent Tech...  \n",
       "4               Commerce Signals, Cardlytics, Yodlee  "
      ]
     },
     "execution_count": 107,
     "metadata": {},
     "output_type": "execute_result"
    }
   ],
   "source": [
    "# how our uncleaned dataset looks like\n",
    "job_posting.head()"
   ]
  },
  {
   "cell_type": "markdown",
   "metadata": {},
   "source": [
    "right off the bat, there are several changes we can do to make our data more presentable:\n",
    "1. in *Salary Estimate* column: get rid of dollar signs and *(Glassdoor est.)*\n",
    "2. in *Company Name* column: left slice everything before newline character appearance\n",
    "3. in *Job Description* column: get rid of newline chars, maybe replace them with ' '(?)\n",
    "4. in a whole dataframe: replace *-1* and *Unknown / Non-Applicable* values to *Unknown*, since both of those values that we want to replace basically mean the same thing\n",
    "5. add the following columns based on *Salary Estimate*:\n",
    "    - *Min salary*\n",
    "    - *Max salary*\n",
    "    - *Average salary*\n",
    "6. add *Same state* column, that will represent whether or not a companys location and headquartes are located in the same state"
   ]
  },
  {
   "cell_type": "markdown",
   "metadata": {},
   "source": [
    "#### Min, Max, Average Salaries"
   ]
  },
  {
   "cell_type": "code",
   "execution_count": 118,
   "metadata": {},
   "outputs": [
    {
     "data": {
      "text/plain": [
       "0      137000000-171000000\n",
       "1      137000000-171000000\n",
       "2      137000000-171000000\n",
       "3      137000000-171000000\n",
       "4      137000000-171000000\n",
       "              ...         \n",
       "667    105000000-167000000\n",
       "668    105000000-167000000\n",
       "669    105000000-167000000\n",
       "670    105000000-167000000\n",
       "671    105000000-167000000\n",
       "Name: Salary Estimate, Length: 672, dtype: object"
      ]
     },
     "execution_count": 118,
     "metadata": {},
     "output_type": "execute_result"
    }
   ],
   "source": [
    "# rm \"(Glassdoor est.)\" \n",
    "job_posting['Salary Estimate'] = job_posting['Salary Estimate'].map(lambda x: x.split('(')[0])\n",
    "\n",
    "# function that returns min and max salaries\n",
    "def seperate_est(est):\n",
    "    min_sal, max_sal = est.split('-')\n",
    "\n",
    "    # removing '$' nad 'K' from a string, converting it to int and multiplying it by 1000\n",
    "    min_sal = int(min_sal.strip('$').replace('K', '')) * 1000\n",
    "    max_sal = int(max_sal.strip('$').replace('K', '')) * 1000\n",
    "\n",
    "    return min_sal, max_sal\n",
    "\n",
    "# assigning 'Min Salary' and 'Max Salary' columns\n",
    "job_posting[['Min Salary', 'Max Salary']] = job_posting['Salary Estimate'].apply(lambda x: pd.Series(seperate_est(x)))\n",
    "\n",
    "# assigning a 'Average Salary' column\n",
    "job_posting['Average Salary'] = (job_posting['Min Salary'] + job_posting['Max Salary']) / 2\n",
    "\n",
    "# reasigning a 'Salary Estimate' column\n",
    "job_posting['Salary Estimate'] = job_posting['Min Salary'].astype(str) + '-' + job_posting['Max Salary'].astype(str)"
   ]
  },
  {
   "cell_type": "markdown",
   "metadata": {},
   "source": [
    "Now, let us have a look at columns we worked on."
   ]
  },
  {
   "cell_type": "code",
   "execution_count": 119,
   "metadata": {},
   "outputs": [
    {
     "data": {
      "text/html": [
       "<div>\n",
       "<style scoped>\n",
       "    .dataframe tbody tr th:only-of-type {\n",
       "        vertical-align: middle;\n",
       "    }\n",
       "\n",
       "    .dataframe tbody tr th {\n",
       "        vertical-align: top;\n",
       "    }\n",
       "\n",
       "    .dataframe thead th {\n",
       "        text-align: right;\n",
       "    }\n",
       "</style>\n",
       "<table border=\"1\" class=\"dataframe\">\n",
       "  <thead>\n",
       "    <tr style=\"text-align: right;\">\n",
       "      <th></th>\n",
       "      <th>Min Salary</th>\n",
       "      <th>Max Salary</th>\n",
       "      <th>Salary Estimate</th>\n",
       "      <th>Average Salary</th>\n",
       "    </tr>\n",
       "  </thead>\n",
       "  <tbody>\n",
       "    <tr>\n",
       "      <th>0</th>\n",
       "      <td>137000000</td>\n",
       "      <td>171000000</td>\n",
       "      <td>137000000-171000000</td>\n",
       "      <td>154000000.0</td>\n",
       "    </tr>\n",
       "    <tr>\n",
       "      <th>1</th>\n",
       "      <td>137000000</td>\n",
       "      <td>171000000</td>\n",
       "      <td>137000000-171000000</td>\n",
       "      <td>154000000.0</td>\n",
       "    </tr>\n",
       "    <tr>\n",
       "      <th>2</th>\n",
       "      <td>137000000</td>\n",
       "      <td>171000000</td>\n",
       "      <td>137000000-171000000</td>\n",
       "      <td>154000000.0</td>\n",
       "    </tr>\n",
       "    <tr>\n",
       "      <th>3</th>\n",
       "      <td>137000000</td>\n",
       "      <td>171000000</td>\n",
       "      <td>137000000-171000000</td>\n",
       "      <td>154000000.0</td>\n",
       "    </tr>\n",
       "    <tr>\n",
       "      <th>4</th>\n",
       "      <td>137000000</td>\n",
       "      <td>171000000</td>\n",
       "      <td>137000000-171000000</td>\n",
       "      <td>154000000.0</td>\n",
       "    </tr>\n",
       "  </tbody>\n",
       "</table>\n",
       "</div>"
      ],
      "text/plain": [
       "   Min Salary  Max Salary      Salary Estimate  Average Salary\n",
       "0   137000000   171000000  137000000-171000000     154000000.0\n",
       "1   137000000   171000000  137000000-171000000     154000000.0\n",
       "2   137000000   171000000  137000000-171000000     154000000.0\n",
       "3   137000000   171000000  137000000-171000000     154000000.0\n",
       "4   137000000   171000000  137000000-171000000     154000000.0"
      ]
     },
     "execution_count": 119,
     "metadata": {},
     "output_type": "execute_result"
    }
   ],
   "source": [
    "job_posting[['Min Salary', 'Max Salary', 'Salary Estimate', 'Average Salary']].head()"
   ]
  },
  {
   "cell_type": "markdown",
   "metadata": {},
   "source": [
    "### Removing '\\n' in a *Company Name* column"
   ]
  },
  {
   "cell_type": "markdown",
   "metadata": {},
   "source": [
    "In *Company Name* column are mixed values."
   ]
  },
  {
   "cell_type": "code",
   "execution_count": 122,
   "metadata": {},
   "outputs": [
    {
     "data": {
      "text/plain": [
       "667                TRANZACT\\n3.6\n",
       "668                         JKGT\n",
       "669                   AccessHope\n",
       "670    ChaTeck Incorporated\\n5.0\n",
       "671           1-800-Flowers\\n2.7\n",
       "Name: Company Name, dtype: object"
      ]
     },
     "execution_count": 122,
     "metadata": {},
     "output_type": "execute_result"
    }
   ],
   "source": [
    "job_posting['Company Name'].tail()"
   ]
  },
  {
   "cell_type": "markdown",
   "metadata": {},
   "source": [
    "It looks like in some cases, rows have a syntax consisting of 'company name', '\\n' and 'company rating'.\n",
    "\n",
    "Let us extract only the name of the company."
   ]
  },
  {
   "cell_type": "code",
   "execution_count": 124,
   "metadata": {},
   "outputs": [
    {
     "data": {
      "text/plain": [
       "667                TRANZACT\n",
       "668                    JKGT\n",
       "669              AccessHope\n",
       "670    ChaTeck Incorporated\n",
       "671           1-800-Flowers\n",
       "Name: Company Name, dtype: object"
      ]
     },
     "execution_count": 124,
     "metadata": {},
     "output_type": "execute_result"
    }
   ],
   "source": [
    "job_posting['Company Name'] = job_posting['Company Name'].map(lambda x: x.split('\\n')[0])\n",
    "job_posting['Company Name'].tail()"
   ]
  },
  {
   "cell_type": "markdown",
   "metadata": {},
   "source": [
    "Now it is all clean!"
   ]
  },
  {
   "cell_type": "markdown",
   "metadata": {},
   "source": [
    "### '\\n' chars inside *Job Description* column "
   ]
  },
  {
   "cell_type": "code",
   "execution_count": 130,
   "metadata": {},
   "outputs": [
    {
     "data": {
      "text/plain": [
       "0    Description\\n\\nThe Senior Data Scientist is re...\n",
       "1    Secure our Nation, Ignite your Future\\n\\nJoin ...\n",
       "2    Overview\\n\\n\\nAnalysis Group is one of the lar...\n",
       "3    JOB DESCRIPTION:\\n\\nDo you have a passion for ...\n",
       "4    Data Scientist\\nAffinity Solutions / Marketing...\n",
       "Name: Job Description, dtype: object"
      ]
     },
     "execution_count": 130,
     "metadata": {},
     "output_type": "execute_result"
    }
   ],
   "source": [
    "job_posting['Job Description'].head()"
   ]
  },
  {
   "cell_type": "markdown",
   "metadata": {},
   "source": [
    "We need to remove every newline character in a column. However, if we use for example just a `.replace()` method, as we did before, we can be left with:\n",
    "\n",
    "- no space between words, if we choose to replace \\n with ''\n",
    "- a huge gap between words, if we replace \\n with ' '\n",
    "\n",
    "So, we will have to ensure that no matter how many \\n are in a string, there has to be only one space in their place."
   ]
  },
  {
   "cell_type": "code",
   "execution_count": 145,
   "metadata": {},
   "outputs": [],
   "source": [
    "# importing regex library\n",
    "import re\n",
    "\n",
    "def remove_newline(val):\n",
    "    # replacing enery newline char with ' '\n",
    "    val = val.replace('\\n', ' ')\n",
    "\n",
    "    # replacing any sequence of spaces with a single space\n",
    "    val = re.sub(r'\\s+', ' ', val)\n",
    "\n",
    "    # returning a value with removed any possible leading or trailing spaces\n",
    "    return val.strip()\n",
    "\n",
    "# reassigning a 'Job Description' column\n",
    "job_posting['Job Description'] = job_posting['Job Description'].apply(remove_newline)"
   ]
  },
  {
   "cell_type": "code",
   "execution_count": 146,
   "metadata": {},
   "outputs": [
    {
     "data": {
      "text/plain": [
       "0      Description The Senior Data Scientist is respo...\n",
       "1      Secure our Nation, Ignite your Future Join the...\n",
       "2      Overview Analysis Group is one of the largest ...\n",
       "3      JOB DESCRIPTION: Do you have a passion for Dat...\n",
       "4      Data Scientist Affinity Solutions / Marketing ...\n",
       "                             ...                        \n",
       "667    Summary We’re looking for a data scientist to ...\n",
       "668    Job Description Become a thought leader within...\n",
       "669    Join a thriving company that is changing the w...\n",
       "670    100 Remote Opportunity As an AINLP Data Scient...\n",
       "671    Description The Data Scientist will be part of...\n",
       "Name: Job Description, Length: 672, dtype: object"
      ]
     },
     "execution_count": 146,
     "metadata": {},
     "output_type": "execute_result"
    }
   ],
   "source": [
    "# viewing our recently modified column\n",
    "job_posting['Job Description'].head()"
   ]
  },
  {
   "cell_type": "markdown",
   "metadata": {},
   "source": [
    "Looks magnificent!"
   ]
  }
 ],
 "metadata": {
  "kernelspec": {
   "display_name": "Python 3",
   "language": "python",
   "name": "python3"
  },
  "language_info": {
   "codemirror_mode": {
    "name": "ipython",
    "version": 3
   },
   "file_extension": ".py",
   "mimetype": "text/x-python",
   "name": "python",
   "nbconvert_exporter": "python",
   "pygments_lexer": "ipython3",
   "version": "3.12.0"
  }
 },
 "nbformat": 4,
 "nbformat_minor": 2
}
